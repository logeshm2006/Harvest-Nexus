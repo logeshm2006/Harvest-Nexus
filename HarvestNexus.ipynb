{
  "nbformat": 4,
  "nbformat_minor": 0,
  "metadata": {
    "colab": {
      "provenance": [],
      "authorship_tag": "ABX9TyO7A56zqtJmd7rN0HZ75S+E",
      "include_colab_link": true
    },
    "kernelspec": {
      "name": "python3",
      "display_name": "Python 3"
    },
    "language_info": {
      "name": "python"
    }
  },
  "cells": [
    {
      "cell_type": "markdown",
      "metadata": {
        "id": "view-in-github",
        "colab_type": "text"
      },
      "source": [
        "<a href=\"https://colab.research.google.com/github/logeshm2006/Harvest-Nexus/blob/ML/HarvestNexus.ipynb\" target=\"_parent\"><img src=\"https://colab.research.google.com/assets/colab-badge.svg\" alt=\"Open In Colab\"/></a>"
      ]
    },
    {
      "cell_type": "code",
      "execution_count": 9,
      "metadata": {
        "colab": {
          "base_uri": "https://localhost:8080/"
        },
        "id": "h5VxhmU5n8rm",
        "outputId": "70417e3f-f533-4f15-dc91-9caf829dcda3"
      },
      "outputs": [
        {
          "output_type": "stream",
          "name": "stdout",
          "text": [
            "Step 1: Loading and Preprocessing Data...\n",
            "--- Final Combined Data for 2017-18 (Features): ---\n",
            "   Kharif_Area (lakh ha)  Kharif_Production (lakh MT/bales)  Kharif_Yield (Kg/ha)  Rabi_Area (lakh ha)  Rabi_Production (lakh MT/bales)  Rabi_Yield (Kg/ha)  Total_Area (lakh ha)  Total_Production (lakh MT/bales)  Total_Yield (Kg/ha)  NITROGENOUS (Lakh MT)  PHOSPHATE (Lakh MT)  POTASH (Lakh MT)  TOTAL CONSUMPTION (Lakh MT)  JAN   FEB  MAR   APR    MAY   JUNE   JULY    AUG    SEP   OCT  NOV  DEC   TOTAL  Kharif_Total Area (lakh ha)  Kharif_Area Irrigated (lakh ha)  Kharif_% of Total Area  Rabi_Total Area (lakh ha)  Rabi_Area Irrigated (lakh ha)  Rabi_% of Total Area  Total_Total Area (lakh ha)  Total_Area Irrigated (lakh ha)  Total_% of Total Area  GEOGRAPHICAL AREA  FOREST AREA  MISC. TREE & GROVES  PERMANENT PASTURE  CULTURABLE WASTE  LAND PUT TO NON AGRIL USE  BARREN & UNCULTURABLE LAND  CURRENT FALLOW  OTHER FALLOW  NET AREA SOWN  JULY_Temp_Max  JULY_Temp_Min  JULY_RH_830  JULY_RH_1730  AUGUST_Temp_Max  AUGUST_Temp_Min  AUGUST_RH_830  AUGUST_RH_1730  SEPTEMBER_Temp_Max  SEPTEMBER_Temp_Min  SEPTEMBER_RH_830  SEPTEMBER_RH_1730  OCTOBER_Temp_Max  OCTOBER_Temp_Min  OCTOBER_RH_830  OCTOBER_RH_1730  NOVEMBER_Temp_Max  NOVEMBER_Temp_Min  NOVEMBER_RH_830  NOVEMBER_RH_1730  DECEMBER_Temp_Max  DECEMBER_Temp_Min  DECEMBER_RH_830  DECEMBER_RH_1730\n",
            "0                  35.44                              58.56                1652.0                 2.22                             6.95              3133.0                 37.66                             65.51               1739.0                   6.01                 2.16              0.79                         8.96  1.8  33.0  6.9  50.2  208.4  339.7  294.0  187.0  167.5  38.9  8.9  0.0  1336.4                        54.28                            22.35                    41.2                      23.91                           11.8                  49.4                       78.19                           34.15                   43.7            15200.0       5472.0                344.0              550.0             389.0                     1191.0                      1024.0           885.0         238.0         5209.0      30.843478      24.265217    87.266667     83.733333        31.721739        24.391304      86.333333            82.8                32.8            24.36087              84.4          81.733333         31.786957         22.852174            84.8             78.2          29.526087          17.413043             79.2         67.666667          28.113043          13.091304             80.0              64.0\n",
            "\n",
            "--- Target Value (Rice Yield): ---\n",
            "1739.0\n"
          ]
        }
      ],
      "source": [
        "import pandas as pd\n",
        "import numpy as np\n",
        "from sklearn.preprocessing import MinMaxScaler\n",
        "\n",
        "def prepare_data_for_cnn():\n",
        "    \"\"\"\n",
        "    Loads, cleans, and combines all relevant data for 2017-18 into a single\n",
        "    data point for conceptual model input.\n",
        "    \"\"\"\n",
        "    print(\"Step 1: Loading and Preprocessing Data...\")\n",
        "\n",
        "    # Load all relevant data files\n",
        "    rainfall_data = pd.read_csv('rainfall_data.csv')\n",
        "    temp_humidity_data = pd.read_csv('temperature_humidity_data.csv')\n",
        "    land_utilization_data = pd.read_csv('land_utilization_data.csv')\n",
        "    irrigated_area_data = pd.read_csv('irrigated_area_data.csv')\n",
        "    major_crops_data = pd.read_csv('major_crops_data.csv')\n",
        "    fertilizer_data = pd.read_csv('fertilizer_data.csv')\n",
        "    district_crop_data = pd.read_csv('district_crop_data.csv')\n",
        "\n",
        "    # -------------------------------------------------------------------------\n",
        "    # --- Data Cleaning and Aggregation for 2017-18 ---\n",
        "    # -------------------------------------------------------------------------\n",
        "\n",
        "    # Extract relevant data for the year 2017-18\n",
        "    # All of these tables are for 2017-18, so we can combine them directly.\n",
        "    # Note: `temp_humidity_data` is for 2017, which aligns with 2017-18.\n",
        "\n",
        "    # 1. Major Crops Data for Rice (2017-18)\n",
        "    rice_data = major_crops_data[major_crops_data['Crops'] == 'Rice'].copy()\n",
        "    rice_data.drop(columns=['Crops'], inplace=True)\n",
        "    rice_data = rice_data.iloc[0] # Select the single row\n",
        "\n",
        "    # 2. Fertilizer Consumption (2017-18)\n",
        "    fertilizer_2017 = fertilizer_data[fertilizer_data['YEAR'] == '2017-18'].copy()\n",
        "    fertilizer_2017.drop(columns=['YEAR'], inplace=True)\n",
        "    fertilizer_2017 = fertilizer_2017.iloc[0]\n",
        "\n",
        "    # 3. Rainfall Data (2017)\n",
        "    rainfall_2017 = rainfall_data[rainfall_data['Year'] == 2017].copy()\n",
        "    rainfall_2017.drop(columns=['Year'], inplace=True)\n",
        "    rainfall_2017 = rainfall_2017.iloc[0]\n",
        "\n",
        "    # 4. Total Irrigated Area (2017-18)\n",
        "    total_irrigated = irrigated_area_data[irrigated_area_data['Crops'] == 'Total'].copy()\n",
        "    total_irrigated.drop(columns=['Crops'], inplace=True)\n",
        "    total_irrigated = total_irrigated.iloc[0]\n",
        "\n",
        "    # 5. Land Utilization (aggregated for 2017-18)\n",
        "    land_utilization_2017 = land_utilization_data.drop(columns=['DISTRICT']).sum()\n",
        "\n",
        "    # 6. Temperature and Humidity (aggregated for 2017)\n",
        "    temp_humidity_2017 = temp_humidity_data.drop(columns=['STATIONS/DISTRICTS']).mean()\n",
        "\n",
        "    # -------------------------------------------------------------------------\n",
        "    # --- Combining all data into a single feature vector (X) ---\n",
        "    # -------------------------------------------------------------------------\n",
        "\n",
        "    # Concatenate all the data series into a single row (DataFrame)\n",
        "    combined_features = pd.concat([\n",
        "        rice_data,\n",
        "        fertilizer_2017,\n",
        "        rainfall_2017,\n",
        "        total_irrigated,\n",
        "        land_utilization_2017,\n",
        "        temp_humidity_2017\n",
        "    ])\n",
        "\n",
        "    # Create the feature matrix X with a single sample\n",
        "    X = pd.DataFrame([combined_features.values], columns=combined_features.index)\n",
        "\n",
        "    # The target variable (Rice Yield Rate)\n",
        "    y = rice_data['Total_Yield (Kg/ha)']\n",
        "\n",
        "    print(\"--- Final Combined Data for 2017-18 (Features): ---\")\n",
        "    print(X.to_string())\n",
        "    print(\"\\n--- Target Value (Rice Yield): ---\")\n",
        "    print(y)\n",
        "\n",
        "if __name__ == '__main__':\n",
        "    prepare_data_for_cnn()"
      ]
    }
  ]
}